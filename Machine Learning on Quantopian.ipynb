{
 "cells": [
  {
   "cell_type": "markdown",
   "metadata": {},
   "source": [
    "# Exploring Machine Learning on Quantopian\n",
    "\n",
    "Recently, Quantopian’s Chief Investment Officer, Jonathan Larkin, shared an industry insider’s overview of the [professional quant equity workflow][1]. This workflow is comprised of distinct stages including: (1) Universe Definition, (2) Alpha Discovery, (3) Alpha Combination, (4) Portfolio Construction and (5) Trading.\n",
    "\n",
    "This Notebook focuses on stage 3: Alpha Combination. At this stage, Machine Learning is an intuitive choice as we have abstracted the problem to such a degree that it is now a classic classification (or regression) problem which ML is very good at solving and coming up with an alpha combination that is predictive.\n",
    "\n",
    "As you will see, there is a lot of code here setting up a factor library and some data wrangling to get everything into shape. The details of this part are perhaps not quite as interesting so feel free to skip directly to [\"Training our ML pipeline\"](#training) where we have everything in place to train and test our classifier.\n",
    "\n",
    "## Overview\n",
    "1. Define trading universe to use ([Q500US and Q1500US][2]).\n",
    "2. Define alphas (implemented in [Pipeline][3]).\n",
    "3. Run pipeline.\n",
    "4. Split into train and test set.\n",
    "5. Preprocess data (rank alphas, subsample, align alphas with future returns, impute, scale).\n",
    "6. Train Machine Learning classifier ([AdaBoost from Scikit-Learn][4]).\n",
    "7. Evaluate Machine Learning classifier on test set.\n",
    "\n",
    "Note that one important limitation is that we only train and test on static (i.e. fixed-in-time) data. Thus, you can not directly do the same in an algorithm. In principle, this is possible and will be the next step but it makes sense to first focus on just the ML in a more direct way to get a good intuition about the workflow and how to develop a competitive ML pipeline.\n",
    "\n",
    "### Disclaimer\n",
    "\n",
    "This workflow is still a bit rough around the edges. We are working on improving it and adding better educational materials. This serves as a sneak-peek for the curious and adventurous.\n",
    "\n",
    "  [1]: http://blog.quantopian.com/a-professional-quant-equity-workflow/\n",
    "  [2]: https://www.quantopian.com/posts/the-q500us-and-q1500us\n",
    "  [3]: https://www.quantopian.com/tutorials/pipeline\n",
    "  [4]: http://scikit-learn.org/stable/modules/generated/sklearn.ensemble.AdaBoostClassifier.html\n",
    "  [5]: https://www.quantopian.com/posts/alphalens-a-new-tool-for-analyzing-alpha-factors\n"
   ]
  },
  {
   "cell_type": "code",
   "execution_count": 1,
   "metadata": {
    "collapsed": false
   },
   "outputs": [],
   "source": [
    "from quantopian.research import run_pipeline\n",
    "from quantopian.pipeline import Pipeline\n",
    "from quantopian.pipeline.factors import Latest\n",
    "from quantopian.pipeline.data.builtin import USEquityPricing\n",
    "from quantopian.pipeline.data import morningstar\n",
    "from quantopian.pipeline.factors import CustomFactor, SimpleMovingAverage, AverageDollarVolume, Returns, RSI\n",
    "from quantopian.pipeline.classifiers.morningstar import Sector\n",
    "from quantopian.pipeline.filters import Q500US, Q1500US\n",
    "from quantopian.pipeline.data.quandl import fred_usdontd156n as libor\n",
    "from quantopian.pipeline.data.zacks import EarningsSurprises\n",
    "\n",
    "import talib\n",
    "import pandas as pd\n",
    "import numpy as np\n",
    "from time import time\n",
    "\n",
    "import alphalens as al\n",
    "import pyfolio as pf\n",
    "from scipy import stats\n",
    "import matplotlib.pyplot as plt\n",
    "from sklearn import linear_model, decomposition, ensemble, preprocessing, isotonic, metrics"
   ]
  },
  {
   "cell_type": "markdown",
   "metadata": {},
   "source": [
    "## Definition of some commonly used factors\n",
    "\n",
    "The factors below are a small collection of commonly used alphas that were coded by Gil Wassermann. I will post a separate Notebook with the full collection and more descriptions of them. Ultimately we will put these into a library you can just import to avoid the wall of text. If you want to understand more about pipeline, read the [tutorial](https://www.quantopian.com/tutorials/pipeline).\n",
    "\n",
    "Also note the `Earnings_Quality` alpha which uses [Zacks Earnings Surprises](https://www.quantopian.com/data/zacks/earnings_surprises), a [new source from our partners](https://www.quantopian.com/data).\n",
    "\n",
    "The details of these factors are not the focus of this Notebook so feel free to just [skip](#universe) this cell."
   ]
  },
  {
   "cell_type": "code",
   "execution_count": 3,
   "metadata": {
    "collapsed": false
   },
   "outputs": [],
   "source": [
    "bs = morningstar.balance_sheet\n",
    "cfs = morningstar.cash_flow_statement\n",
    "is_ = morningstar.income_statement\n",
    "or_ = morningstar.operation_ratios\n",
    "er = morningstar.earnings_report\n",
    "v = morningstar.valuation\n",
    "vr = morningstar.valuation_ratios\n",
    "\n",
    "\n",
    "def make_factors():\n",
    "    def Asset_Growth_3M():\n",
    "        return Returns(inputs=[bs.total_assets], window_length=63)\n",
    "\n",
    "    def Asset_To_Equity_Ratio():\n",
    "        return bs.total_assets.latest / bs.common_stock_equity.latest\n",
    "\n",
    "    def Capex_To_Cashflows():\n",
    "        return (cfs.capital_expenditure.latest * 4.) / \\\n",
    "            (cfs.free_cash_flow.latest * 4.)\n",
    "        \n",
    "    def EBITDA_Yield():\n",
    "        return (is_.ebitda.latest * 4.) / \\\n",
    "            USEquityPricing.close.latest        \n",
    "\n",
    "    def EBIT_To_Assets():\n",
    "        return (is_.ebit.latest * 4.) / \\\n",
    "            bs.total_assets.latest\n",
    "        \n",
    "    def Earnings_Quality():\n",
    "        return morningstar.cash_flow_statement.operating_cash_flow.latest / \\\n",
    "               EarningsSurprises.eps_act.latest\n",
    "        \n",
    "    def Return_On_Total_Invest_Capital():\n",
    "        return or_.roic.latest\n",
    "    \n",
    "    class Mean_Reversion_1M(CustomFactor):\n",
    "        inputs = [Returns(window_length=21)]\n",
    "        window_length = 252\n",
    "\n",
    "        def compute(self, today, assets, out, monthly_rets):\n",
    "            out[:] = (monthly_rets[-1] - np.nanmean(monthly_rets, axis=0)) / \\\n",
    "                np.nanstd(monthly_rets, axis=0)\n",
    "                \n",
    "    class MACD_Signal_10d(CustomFactor):\n",
    "        inputs = [USEquityPricing.close]\n",
    "        window_length = 60\n",
    "\n",
    "        def compute(self, today, assets, out, close):\n",
    "\n",
    "            sig_lines = []\n",
    "\n",
    "            for col in close.T:\n",
    "                # get signal line only\n",
    "                try:\n",
    "                    _, signal_line, _ = talib.MACD(col, fastperiod=12,\n",
    "                                                   slowperiod=26, signalperiod=10)\n",
    "                    sig_lines.append(signal_line[-1])\n",
    "                # if error calculating, return NaN\n",
    "                except:\n",
    "                    sig_lines.append(np.nan)\n",
    "            out[:] = sig_lines \n",
    "            \n",
    "    class Moneyflow_Volume_5d(CustomFactor):\n",
    "        inputs = [USEquityPricing.close, USEquityPricing.volume]\n",
    "        window_length = 5\n",
    "\n",
    "        def compute(self, today, assets, out, close, volume):\n",
    "\n",
    "            mfvs = []\n",
    "\n",
    "            for col_c, col_v in zip(close.T, volume.T):\n",
    "\n",
    "                # denominator\n",
    "                denominator = np.dot(col_c, col_v)\n",
    "\n",
    "                # numerator\n",
    "                numerator = 0.\n",
    "                for n, price in enumerate(col_c.tolist()):\n",
    "                    if price > col_c[n - 1]:\n",
    "                        numerator += price * col_v[n]\n",
    "                    else:\n",
    "                        numerator -= price * col_v[n]\n",
    "\n",
    "                mfvs.append(numerator / denominator)\n",
    "            out[:] = mfvs  \n",
    "            \n",
    "           \n",
    "    def Net_Income_Margin():\n",
    "        return or_.net_margin.latest           \n",
    "\n",
    "    def Operating_Cashflows_To_Assets():\n",
    "        return (cfs.operating_cash_flow.latest * 4.) / \\\n",
    "            bs.total_assets.latest\n",
    "\n",
    "    def Price_Momentum_3M():\n",
    "        return Returns(window_length=63)\n",
    "    \n",
    "    class Price_Oscillator(CustomFactor):\n",
    "        inputs = [USEquityPricing.close]\n",
    "        window_length = 252\n",
    "\n",
    "        def compute(self, today, assets, out, close):\n",
    "            four_week_period = close[-20:]\n",
    "            out[:] = (np.nanmean(four_week_period, axis=0) /\n",
    "                      np.nanmean(close, axis=0)) - 1.\n",
    "    \n",
    "    def Returns_39W():\n",
    "        return Returns(window_length=215)\n",
    "    \n",
    "    class Trendline(CustomFactor):\n",
    "        inputs = [USEquityPricing.close]\n",
    "        window_length = 252\n",
    "\n",
    "        # using MLE for speed\n",
    "        def compute(self, today, assets, out, close):\n",
    "\n",
    "            # prepare X matrix (x_is - x_bar)\n",
    "            X = range(self.window_length)\n",
    "            X_bar = np.nanmean(X)\n",
    "            X_vector = X - X_bar\n",
    "            X_matrix = np.tile(X_vector, (len(close.T), 1)).T\n",
    "\n",
    "            # prepare Y matrix (y_is - y_bar)\n",
    "            Y_bar = np.nanmean(close, axis=0)\n",
    "            Y_bars = np.tile(Y_bar, (self.window_length, 1))\n",
    "            Y_matrix = close - Y_bars\n",
    "\n",
    "            # prepare variance of X\n",
    "            X_var = np.nanvar(X)\n",
    "\n",
    "            # multiply X matrix an Y matrix and sum (dot product)\n",
    "            # then divide by variance of X\n",
    "            # this gives the MLE of Beta\n",
    "            out[:] = (np.sum((X_matrix * Y_matrix), axis=0) / X_var) / \\\n",
    "                (self.window_length)\n",
    "        \n",
    "    class Vol_3M(CustomFactor):\n",
    "        inputs = [Returns(window_length=2)]\n",
    "        window_length = 63\n",
    "\n",
    "        def compute(self, today, assets, out, rets):\n",
    "            out[:] = np.nanstd(rets, axis=0)\n",
    "            \n",
    "    def Working_Capital_To_Assets():\n",
    "        return bs.working_capital.latest / bs.total_assets.latest\n",
    "        \n",
    "    all_factors = {\n",
    "        'Asset Growth 3M': Asset_Growth_3M,\n",
    "        'Asset to Equity Ratio': Asset_To_Equity_Ratio,\n",
    "        'Capex to Cashflows': Capex_To_Cashflows,\n",
    "        'EBIT to Assets': EBIT_To_Assets,\n",
    "        'EBITDA Yield': EBITDA_Yield,        \n",
    "        'Earnings Quality': Earnings_Quality,\n",
    "        'MACD Signal Line': MACD_Signal_10d,\n",
    "        'Mean Reversion 1M': Mean_Reversion_1M,\n",
    "        'Moneyflow Volume 5D': Moneyflow_Volume_5d,\n",
    "        'Net Income Margin': Net_Income_Margin,        \n",
    "        'Operating Cashflows to Assets': Operating_Cashflows_To_Assets,\n",
    "        'Price Momentum 3M': Price_Momentum_3M,\n",
    "        'Price Oscillator': Price_Oscillator,\n",
    "        'Return on Invest Capital': Return_On_Total_Invest_Capital,\n",
    "        '39 Week Returns': Returns_39W,\n",
    "        'Trendline': Trendline,\n",
    "        'Vol 3M': Vol_3M,\n",
    "        'Working Capital to Assets': Working_Capital_To_Assets,        \n",
    "    }        \n",
    "    \n",
    "    return all_factors"
   ]
  },
  {
   "cell_type": "markdown",
   "metadata": {},
   "source": [
    "<a id='universe'></a>"
   ]
  },
  {
   "cell_type": "markdown",
   "metadata": {},
   "source": [
    "## Define universe and select factors to use\n",
    "\n",
    "We will screen our universe using the new [Q1500US](https://www.quantopian.com/posts/the-q500us-and-q1500us) and hand-pick a few alphas from the list above. We encourage you to play around with the factors."
   ]
  },
  {
   "cell_type": "code",
   "execution_count": 4,
   "metadata": {
    "collapsed": false
   },
   "outputs": [],
   "source": [
    "universe = Q1500US()\n",
    "\n",
    "factors = make_factors()"
   ]
  },
  {
   "cell_type": "markdown",
   "metadata": {},
   "source": [
    "##Define and build the pipeline\n",
    "\n",
    "Next we have to build the pipeline. In addition to the factors defined above, we need the forward returns we want to predict. In this Notebook we will predict 5-day returns and train our model on daily data. You can also subsample the data to e.g. weekly to not have overlapping return periods but we omit this here."
   ]
  },
  {
   "cell_type": "code",
   "execution_count": 5,
   "metadata": {
    "collapsed": true
   },
   "outputs": [],
   "source": [
    "n_fwd_days = 5 # number of days to compute returns over"
   ]
  },
  {
   "cell_type": "code",
   "execution_count": 6,
   "metadata": {
    "collapsed": true
   },
   "outputs": [],
   "source": [
    "def make_history_pipeline(factors, universe, n_fwd_days=5):\n",
    "    # Call .rank() on all factors and mask out the universe\n",
    "    factor_ranks = {name: f().rank(mask=universe) for name, f in factors.iteritems()}\n",
    "    # Get cumulative returns over last n_fwd_days days. We will later shift these.\n",
    "    factor_ranks['Returns'] = Returns(inputs=[USEquityPricing.open],\n",
    "                                      mask=universe, window_length=n_fwd_days)\n",
    "    \n",
    "    pipe = Pipeline(screen=universe, columns=factor_ranks)\n",
    "    \n",
    "    return pipe"
   ]
  },
  {
   "cell_type": "code",
   "execution_count": 7,
   "metadata": {
    "collapsed": false
   },
   "outputs": [],
   "source": [
    "history_pipe = make_history_pipeline(factors, universe, n_fwd_days=n_fwd_days)"
   ]
  },
  {
   "cell_type": "markdown",
   "metadata": {},
   "source": [
    "##Run the pipeline"
   ]
  },
  {
   "cell_type": "code",
   "execution_count": 25,
   "metadata": {
    "collapsed": false,
    "scrolled": true
   },
   "outputs": [],
   "source": [
    "start_timer = time()\n",
    "start = pd.Timestamp(\"2016-03-06\")\n",
    "end = pd.Timestamp(\"2016-09-14\")\n",
    "results = run_pipeline(history_pipe, start_date=start, end_date=end)\n",
    "results.index.names = ['date', 'security']\n",
    "end_timer = time()"
   ]
  },
  {
   "cell_type": "code",
   "execution_count": 27,
   "metadata": {
    "collapsed": false
   },
   "outputs": [
    {
     "name": "stdout",
     "output_type": "stream",
     "text": [
      "Time to run pipeline 201.66 secs\n"
     ]
    }
   ],
   "source": [
    "print \"Time to run pipeline %.2f secs\" % (end_timer - start_timer)"
   ]
  },
  {
   "cell_type": "code",
   "execution_count": 10,
   "metadata": {
    "collapsed": false
   },
   "outputs": [
    {
     "data": {
      "text/html": [
       "<div>\n",
       "<table border=\"1\" class=\"dataframe\">\n",
       "  <thead>\n",
       "    <tr style=\"text-align: right;\">\n",
       "      <th></th>\n",
       "      <th></th>\n",
       "      <th>39 Week Returns</th>\n",
       "      <th>Asset Growth 3M</th>\n",
       "      <th>Asset to Equity Ratio</th>\n",
       "      <th>Capex to Cashflows</th>\n",
       "      <th>EBIT to Assets</th>\n",
       "      <th>EBITDA Yield</th>\n",
       "      <th>Earnings Quality</th>\n",
       "      <th>MACD Signal Line</th>\n",
       "      <th>Mean Reversion 1M</th>\n",
       "      <th>Moneyflow Volume 5D</th>\n",
       "      <th>Net Income Margin</th>\n",
       "      <th>Operating Cashflows to Assets</th>\n",
       "      <th>Price Momentum 3M</th>\n",
       "      <th>Price Oscillator</th>\n",
       "      <th>Return on Invest Capital</th>\n",
       "      <th>Returns</th>\n",
       "      <th>Trendline</th>\n",
       "      <th>Vol 3M</th>\n",
       "      <th>Working Capital to Assets</th>\n",
       "    </tr>\n",
       "    <tr>\n",
       "      <th>date</th>\n",
       "      <th>security</th>\n",
       "      <th></th>\n",
       "      <th></th>\n",
       "      <th></th>\n",
       "      <th></th>\n",
       "      <th></th>\n",
       "      <th></th>\n",
       "      <th></th>\n",
       "      <th></th>\n",
       "      <th></th>\n",
       "      <th></th>\n",
       "      <th></th>\n",
       "      <th></th>\n",
       "      <th></th>\n",
       "      <th></th>\n",
       "      <th></th>\n",
       "      <th></th>\n",
       "      <th></th>\n",
       "      <th></th>\n",
       "      <th></th>\n",
       "    </tr>\n",
       "  </thead>\n",
       "  <tbody>\n",
       "    <tr>\n",
       "      <th rowspan=\"5\" valign=\"top\">2016-03-07 00:00:00+00:00</th>\n",
       "      <th>Equity(2 [AA])</th>\n",
       "      <td>326.0</td>\n",
       "      <td>861.0</td>\n",
       "      <td>921.0</td>\n",
       "      <td>242.0</td>\n",
       "      <td>213.0</td>\n",
       "      <td>75.0</td>\n",
       "      <td>1466.0</td>\n",
       "      <td>891.0</td>\n",
       "      <td>1050.0</td>\n",
       "      <td>939.0</td>\n",
       "      <td>231.0</td>\n",
       "      <td>783.0</td>\n",
       "      <td>1181.0</td>\n",
       "      <td>540.0</td>\n",
       "      <td>220.0</td>\n",
       "      <td>0.071508</td>\n",
       "      <td>721.0</td>\n",
       "      <td>1271.0</td>\n",
       "      <td>556.0</td>\n",
       "    </tr>\n",
       "    <tr>\n",
       "      <th>Equity(24 [AAPL])</th>\n",
       "      <td>521.0</td>\n",
       "      <td>936.0</td>\n",
       "      <td>634.0</td>\n",
       "      <td>696.0</td>\n",
       "      <td>1370.0</td>\n",
       "      <td>1492.0</td>\n",
       "      <td>1454.0</td>\n",
       "      <td>307.0</td>\n",
       "      <td>1025.0</td>\n",
       "      <td>1385.0</td>\n",
       "      <td>1340.0</td>\n",
       "      <td>1448.0</td>\n",
       "      <td>472.0</td>\n",
       "      <td>583.0</td>\n",
       "      <td>1458.0</td>\n",
       "      <td>0.056886</td>\n",
       "      <td>153.0</td>\n",
       "      <td>520.0</td>\n",
       "      <td>272.0</td>\n",
       "    </tr>\n",
       "    <tr>\n",
       "      <th>Equity(53 [ABMD])</th>\n",
       "      <td>1418.0</td>\n",
       "      <td>1266.0</td>\n",
       "      <td>106.0</td>\n",
       "      <td>630.0</td>\n",
       "      <td>1227.0</td>\n",
       "      <td>259.0</td>\n",
       "      <td>581.0</td>\n",
       "      <td>265.0</td>\n",
       "      <td>68.0</td>\n",
       "      <td>710.0</td>\n",
       "      <td>1065.0</td>\n",
       "      <td>1363.0</td>\n",
       "      <td>1166.0</td>\n",
       "      <td>1148.0</td>\n",
       "      <td>1112.0</td>\n",
       "      <td>0.028731</td>\n",
       "      <td>1421.0</td>\n",
       "      <td>1210.0</td>\n",
       "      <td>1275.0</td>\n",
       "    </tr>\n",
       "    <tr>\n",
       "      <th>Equity(62 [ABT])</th>\n",
       "      <td>580.0</td>\n",
       "      <td>505.0</td>\n",
       "      <td>482.0</td>\n",
       "      <td>402.0</td>\n",
       "      <td>815.0</td>\n",
       "      <td>1392.0</td>\n",
       "      <td>1333.0</td>\n",
       "      <td>348.0</td>\n",
       "      <td>540.0</td>\n",
       "      <td>460.0</td>\n",
       "      <td>1146.0</td>\n",
       "      <td>676.0</td>\n",
       "      <td>451.0</td>\n",
       "      <td>645.0</td>\n",
       "      <td>993.0</td>\n",
       "      <td>-0.012456</td>\n",
       "      <td>602.0</td>\n",
       "      <td>501.0</td>\n",
       "      <td>677.0</td>\n",
       "    </tr>\n",
       "    <tr>\n",
       "      <th>Equity(67 [ADSK])</th>\n",
       "      <td>826.0</td>\n",
       "      <td>1288.0</td>\n",
       "      <td>1014.0</td>\n",
       "      <td>624.0</td>\n",
       "      <td>283.0</td>\n",
       "      <td>317.0</td>\n",
       "      <td>20.0</td>\n",
       "      <td>557.0</td>\n",
       "      <td>914.0</td>\n",
       "      <td>1084.0</td>\n",
       "      <td>269.0</td>\n",
       "      <td>938.0</td>\n",
       "      <td>395.0</td>\n",
       "      <td>752.0</td>\n",
       "      <td>270.0</td>\n",
       "      <td>0.083758</td>\n",
       "      <td>727.0</td>\n",
       "      <td>1003.0</td>\n",
       "      <td>953.0</td>\n",
       "    </tr>\n",
       "  </tbody>\n",
       "</table>\n",
       "</div>"
      ],
      "text/plain": [
       "                                             39 Week Returns  Asset Growth 3M  \\\n",
       "date                      security                                              \n",
       "2016-03-07 00:00:00+00:00 Equity(2 [AA])               326.0            861.0   \n",
       "                          Equity(24 [AAPL])            521.0            936.0   \n",
       "                          Equity(53 [ABMD])           1418.0           1266.0   \n",
       "                          Equity(62 [ABT])             580.0            505.0   \n",
       "                          Equity(67 [ADSK])            826.0           1288.0   \n",
       "\n",
       "                                             Asset to Equity Ratio  \\\n",
       "date                      security                                   \n",
       "2016-03-07 00:00:00+00:00 Equity(2 [AA])                     921.0   \n",
       "                          Equity(24 [AAPL])                  634.0   \n",
       "                          Equity(53 [ABMD])                  106.0   \n",
       "                          Equity(62 [ABT])                   482.0   \n",
       "                          Equity(67 [ADSK])                 1014.0   \n",
       "\n",
       "                                             Capex to Cashflows  \\\n",
       "date                      security                                \n",
       "2016-03-07 00:00:00+00:00 Equity(2 [AA])                  242.0   \n",
       "                          Equity(24 [AAPL])               696.0   \n",
       "                          Equity(53 [ABMD])               630.0   \n",
       "                          Equity(62 [ABT])                402.0   \n",
       "                          Equity(67 [ADSK])               624.0   \n",
       "\n",
       "                                             EBIT to Assets  EBITDA Yield  \\\n",
       "date                      security                                          \n",
       "2016-03-07 00:00:00+00:00 Equity(2 [AA])              213.0          75.0   \n",
       "                          Equity(24 [AAPL])          1370.0        1492.0   \n",
       "                          Equity(53 [ABMD])          1227.0         259.0   \n",
       "                          Equity(62 [ABT])            815.0        1392.0   \n",
       "                          Equity(67 [ADSK])           283.0         317.0   \n",
       "\n",
       "                                             Earnings Quality  \\\n",
       "date                      security                              \n",
       "2016-03-07 00:00:00+00:00 Equity(2 [AA])               1466.0   \n",
       "                          Equity(24 [AAPL])            1454.0   \n",
       "                          Equity(53 [ABMD])             581.0   \n",
       "                          Equity(62 [ABT])             1333.0   \n",
       "                          Equity(67 [ADSK])              20.0   \n",
       "\n",
       "                                             MACD Signal Line  \\\n",
       "date                      security                              \n",
       "2016-03-07 00:00:00+00:00 Equity(2 [AA])                891.0   \n",
       "                          Equity(24 [AAPL])             307.0   \n",
       "                          Equity(53 [ABMD])             265.0   \n",
       "                          Equity(62 [ABT])              348.0   \n",
       "                          Equity(67 [ADSK])             557.0   \n",
       "\n",
       "                                             Mean Reversion 1M  \\\n",
       "date                      security                               \n",
       "2016-03-07 00:00:00+00:00 Equity(2 [AA])                1050.0   \n",
       "                          Equity(24 [AAPL])             1025.0   \n",
       "                          Equity(53 [ABMD])               68.0   \n",
       "                          Equity(62 [ABT])               540.0   \n",
       "                          Equity(67 [ADSK])              914.0   \n",
       "\n",
       "                                             Moneyflow Volume 5D  \\\n",
       "date                      security                                 \n",
       "2016-03-07 00:00:00+00:00 Equity(2 [AA])                   939.0   \n",
       "                          Equity(24 [AAPL])               1385.0   \n",
       "                          Equity(53 [ABMD])                710.0   \n",
       "                          Equity(62 [ABT])                 460.0   \n",
       "                          Equity(67 [ADSK])               1084.0   \n",
       "\n",
       "                                             Net Income Margin  \\\n",
       "date                      security                               \n",
       "2016-03-07 00:00:00+00:00 Equity(2 [AA])                 231.0   \n",
       "                          Equity(24 [AAPL])             1340.0   \n",
       "                          Equity(53 [ABMD])             1065.0   \n",
       "                          Equity(62 [ABT])              1146.0   \n",
       "                          Equity(67 [ADSK])              269.0   \n",
       "\n",
       "                                             Operating Cashflows to Assets  \\\n",
       "date                      security                                           \n",
       "2016-03-07 00:00:00+00:00 Equity(2 [AA])                             783.0   \n",
       "                          Equity(24 [AAPL])                         1448.0   \n",
       "                          Equity(53 [ABMD])                         1363.0   \n",
       "                          Equity(62 [ABT])                           676.0   \n",
       "                          Equity(67 [ADSK])                          938.0   \n",
       "\n",
       "                                             Price Momentum 3M  \\\n",
       "date                      security                               \n",
       "2016-03-07 00:00:00+00:00 Equity(2 [AA])                1181.0   \n",
       "                          Equity(24 [AAPL])              472.0   \n",
       "                          Equity(53 [ABMD])             1166.0   \n",
       "                          Equity(62 [ABT])               451.0   \n",
       "                          Equity(67 [ADSK])              395.0   \n",
       "\n",
       "                                             Price Oscillator  \\\n",
       "date                      security                              \n",
       "2016-03-07 00:00:00+00:00 Equity(2 [AA])                540.0   \n",
       "                          Equity(24 [AAPL])             583.0   \n",
       "                          Equity(53 [ABMD])            1148.0   \n",
       "                          Equity(62 [ABT])              645.0   \n",
       "                          Equity(67 [ADSK])             752.0   \n",
       "\n",
       "                                             Return on Invest Capital  \\\n",
       "date                      security                                      \n",
       "2016-03-07 00:00:00+00:00 Equity(2 [AA])                        220.0   \n",
       "                          Equity(24 [AAPL])                    1458.0   \n",
       "                          Equity(53 [ABMD])                    1112.0   \n",
       "                          Equity(62 [ABT])                      993.0   \n",
       "                          Equity(67 [ADSK])                     270.0   \n",
       "\n",
       "                                              Returns  Trendline  Vol 3M  \\\n",
       "date                      security                                         \n",
       "2016-03-07 00:00:00+00:00 Equity(2 [AA])     0.071508      721.0  1271.0   \n",
       "                          Equity(24 [AAPL])  0.056886      153.0   520.0   \n",
       "                          Equity(53 [ABMD])  0.028731     1421.0  1210.0   \n",
       "                          Equity(62 [ABT])  -0.012456      602.0   501.0   \n",
       "                          Equity(67 [ADSK])  0.083758      727.0  1003.0   \n",
       "\n",
       "                                             Working Capital to Assets  \n",
       "date                      security                                      \n",
       "2016-03-07 00:00:00+00:00 Equity(2 [AA])                         556.0  \n",
       "                          Equity(24 [AAPL])                      272.0  \n",
       "                          Equity(53 [ABMD])                     1275.0  \n",
       "                          Equity(62 [ABT])                       677.0  \n",
       "                          Equity(67 [ADSK])                      953.0  "
      ]
     },
     "execution_count": 10,
     "metadata": {},
     "output_type": "execute_result"
    }
   ],
   "source": [
    "results.head()"
   ]
  },
  {
   "cell_type": "code",
   "execution_count": 11,
   "metadata": {
    "collapsed": false
   },
   "outputs": [
    {
     "data": {
      "text/html": [
       "<div>\n",
       "<table border=\"1\" class=\"dataframe\">\n",
       "  <thead>\n",
       "    <tr style=\"text-align: right;\">\n",
       "      <th></th>\n",
       "      <th></th>\n",
       "      <th>39 Week Returns</th>\n",
       "      <th>Asset Growth 3M</th>\n",
       "      <th>Asset to Equity Ratio</th>\n",
       "      <th>Capex to Cashflows</th>\n",
       "      <th>EBIT to Assets</th>\n",
       "      <th>EBITDA Yield</th>\n",
       "      <th>Earnings Quality</th>\n",
       "      <th>MACD Signal Line</th>\n",
       "      <th>Mean Reversion 1M</th>\n",
       "      <th>Moneyflow Volume 5D</th>\n",
       "      <th>Net Income Margin</th>\n",
       "      <th>Operating Cashflows to Assets</th>\n",
       "      <th>Price Momentum 3M</th>\n",
       "      <th>Price Oscillator</th>\n",
       "      <th>Return on Invest Capital</th>\n",
       "      <th>Returns</th>\n",
       "      <th>Trendline</th>\n",
       "      <th>Vol 3M</th>\n",
       "      <th>Working Capital to Assets</th>\n",
       "    </tr>\n",
       "    <tr>\n",
       "      <th>date</th>\n",
       "      <th>security</th>\n",
       "      <th></th>\n",
       "      <th></th>\n",
       "      <th></th>\n",
       "      <th></th>\n",
       "      <th></th>\n",
       "      <th></th>\n",
       "      <th></th>\n",
       "      <th></th>\n",
       "      <th></th>\n",
       "      <th></th>\n",
       "      <th></th>\n",
       "      <th></th>\n",
       "      <th></th>\n",
       "      <th></th>\n",
       "      <th></th>\n",
       "      <th></th>\n",
       "      <th></th>\n",
       "      <th></th>\n",
       "      <th></th>\n",
       "    </tr>\n",
       "  </thead>\n",
       "  <tbody>\n",
       "    <tr>\n",
       "      <th rowspan=\"5\" valign=\"top\">2016-09-14 00:00:00+00:00</th>\n",
       "      <th>Equity(49496 [FDC])</th>\n",
       "      <td>300.0</td>\n",
       "      <td>903.0</td>\n",
       "      <td>1478.0</td>\n",
       "      <td>574.0</td>\n",
       "      <td>545.0</td>\n",
       "      <td>1441.0</td>\n",
       "      <td>1400.0</td>\n",
       "      <td>954.0</td>\n",
       "      <td>1349.0</td>\n",
       "      <td>898.0</td>\n",
       "      <td>628.0</td>\n",
       "      <td>594.0</td>\n",
       "      <td>1290.0</td>\n",
       "      <td>433.0</td>\n",
       "      <td>429.0</td>\n",
       "      <td>-0.025424</td>\n",
       "      <td>NaN</td>\n",
       "      <td>1175.0</td>\n",
       "      <td>350.0</td>\n",
       "    </tr>\n",
       "    <tr>\n",
       "      <th>Equity(49506 [HPE])</th>\n",
       "      <td>1454.0</td>\n",
       "      <td>780.0</td>\n",
       "      <td>683.0</td>\n",
       "      <td>233.0</td>\n",
       "      <td>1031.0</td>\n",
       "      <td>1485.0</td>\n",
       "      <td>1443.0</td>\n",
       "      <td>862.0</td>\n",
       "      <td>609.0</td>\n",
       "      <td>373.0</td>\n",
       "      <td>1233.0</td>\n",
       "      <td>802.0</td>\n",
       "      <td>1181.0</td>\n",
       "      <td>1402.0</td>\n",
       "      <td>1297.0</td>\n",
       "      <td>-0.041345</td>\n",
       "      <td>NaN</td>\n",
       "      <td>879.0</td>\n",
       "      <td>669.0</td>\n",
       "    </tr>\n",
       "    <tr>\n",
       "      <th>Equity(49630 [CSRA])</th>\n",
       "      <td>NaN</td>\n",
       "      <td>352.0</td>\n",
       "      <td>1475.0</td>\n",
       "      <td>584.0</td>\n",
       "      <td>990.0</td>\n",
       "      <td>1149.0</td>\n",
       "      <td>1049.0</td>\n",
       "      <td>842.0</td>\n",
       "      <td>1290.0</td>\n",
       "      <td>1113.0</td>\n",
       "      <td>626.0</td>\n",
       "      <td>1073.0</td>\n",
       "      <td>1225.0</td>\n",
       "      <td>386.0</td>\n",
       "      <td>888.0</td>\n",
       "      <td>0.019969</td>\n",
       "      <td>NaN</td>\n",
       "      <td>790.0</td>\n",
       "      <td>264.0</td>\n",
       "    </tr>\n",
       "    <tr>\n",
       "      <th>Equity(49666 [AGR])</th>\n",
       "      <td>NaN</td>\n",
       "      <td>575.0</td>\n",
       "      <td>1060.0</td>\n",
       "      <td>1332.0</td>\n",
       "      <td>426.0</td>\n",
       "      <td>658.0</td>\n",
       "      <td>751.0</td>\n",
       "      <td>185.0</td>\n",
       "      <td>267.0</td>\n",
       "      <td>1421.0</td>\n",
       "      <td>584.0</td>\n",
       "      <td>388.0</td>\n",
       "      <td>374.0</td>\n",
       "      <td>560.0</td>\n",
       "      <td>490.0</td>\n",
       "      <td>-0.021012</td>\n",
       "      <td>NaN</td>\n",
       "      <td>114.0</td>\n",
       "      <td>365.0</td>\n",
       "    </tr>\n",
       "    <tr>\n",
       "      <th>Equity(49700 [FCE_A])</th>\n",
       "      <td>NaN</td>\n",
       "      <td>576.0</td>\n",
       "      <td>997.0</td>\n",
       "      <td>1328.0</td>\n",
       "      <td>100.0</td>\n",
       "      <td>21.0</td>\n",
       "      <td>878.0</td>\n",
       "      <td>716.0</td>\n",
       "      <td>469.0</td>\n",
       "      <td>756.0</td>\n",
       "      <td>69.0</td>\n",
       "      <td>337.0</td>\n",
       "      <td>571.0</td>\n",
       "      <td>782.0</td>\n",
       "      <td>37.0</td>\n",
       "      <td>-0.034454</td>\n",
       "      <td>NaN</td>\n",
       "      <td>490.0</td>\n",
       "      <td>86.0</td>\n",
       "    </tr>\n",
       "  </tbody>\n",
       "</table>\n",
       "</div>"
      ],
      "text/plain": [
       "                                                 39 Week Returns  \\\n",
       "date                      security                                 \n",
       "2016-09-14 00:00:00+00:00 Equity(49496 [FDC])              300.0   \n",
       "                          Equity(49506 [HPE])             1454.0   \n",
       "                          Equity(49630 [CSRA])               NaN   \n",
       "                          Equity(49666 [AGR])                NaN   \n",
       "                          Equity(49700 [FCE_A])              NaN   \n",
       "\n",
       "                                                 Asset Growth 3M  \\\n",
       "date                      security                                 \n",
       "2016-09-14 00:00:00+00:00 Equity(49496 [FDC])              903.0   \n",
       "                          Equity(49506 [HPE])              780.0   \n",
       "                          Equity(49630 [CSRA])             352.0   \n",
       "                          Equity(49666 [AGR])              575.0   \n",
       "                          Equity(49700 [FCE_A])            576.0   \n",
       "\n",
       "                                                 Asset to Equity Ratio  \\\n",
       "date                      security                                       \n",
       "2016-09-14 00:00:00+00:00 Equity(49496 [FDC])                   1478.0   \n",
       "                          Equity(49506 [HPE])                    683.0   \n",
       "                          Equity(49630 [CSRA])                  1475.0   \n",
       "                          Equity(49666 [AGR])                   1060.0   \n",
       "                          Equity(49700 [FCE_A])                  997.0   \n",
       "\n",
       "                                                 Capex to Cashflows  \\\n",
       "date                      security                                    \n",
       "2016-09-14 00:00:00+00:00 Equity(49496 [FDC])                 574.0   \n",
       "                          Equity(49506 [HPE])                 233.0   \n",
       "                          Equity(49630 [CSRA])                584.0   \n",
       "                          Equity(49666 [AGR])                1332.0   \n",
       "                          Equity(49700 [FCE_A])              1328.0   \n",
       "\n",
       "                                                 EBIT to Assets  EBITDA Yield  \\\n",
       "date                      security                                              \n",
       "2016-09-14 00:00:00+00:00 Equity(49496 [FDC])             545.0        1441.0   \n",
       "                          Equity(49506 [HPE])            1031.0        1485.0   \n",
       "                          Equity(49630 [CSRA])            990.0        1149.0   \n",
       "                          Equity(49666 [AGR])             426.0         658.0   \n",
       "                          Equity(49700 [FCE_A])           100.0          21.0   \n",
       "\n",
       "                                                 Earnings Quality  \\\n",
       "date                      security                                  \n",
       "2016-09-14 00:00:00+00:00 Equity(49496 [FDC])              1400.0   \n",
       "                          Equity(49506 [HPE])              1443.0   \n",
       "                          Equity(49630 [CSRA])             1049.0   \n",
       "                          Equity(49666 [AGR])               751.0   \n",
       "                          Equity(49700 [FCE_A])             878.0   \n",
       "\n",
       "                                                 MACD Signal Line  \\\n",
       "date                      security                                  \n",
       "2016-09-14 00:00:00+00:00 Equity(49496 [FDC])               954.0   \n",
       "                          Equity(49506 [HPE])               862.0   \n",
       "                          Equity(49630 [CSRA])              842.0   \n",
       "                          Equity(49666 [AGR])               185.0   \n",
       "                          Equity(49700 [FCE_A])             716.0   \n",
       "\n",
       "                                                 Mean Reversion 1M  \\\n",
       "date                      security                                   \n",
       "2016-09-14 00:00:00+00:00 Equity(49496 [FDC])               1349.0   \n",
       "                          Equity(49506 [HPE])                609.0   \n",
       "                          Equity(49630 [CSRA])              1290.0   \n",
       "                          Equity(49666 [AGR])                267.0   \n",
       "                          Equity(49700 [FCE_A])              469.0   \n",
       "\n",
       "                                                 Moneyflow Volume 5D  \\\n",
       "date                      security                                     \n",
       "2016-09-14 00:00:00+00:00 Equity(49496 [FDC])                  898.0   \n",
       "                          Equity(49506 [HPE])                  373.0   \n",
       "                          Equity(49630 [CSRA])                1113.0   \n",
       "                          Equity(49666 [AGR])                 1421.0   \n",
       "                          Equity(49700 [FCE_A])                756.0   \n",
       "\n",
       "                                                 Net Income Margin  \\\n",
       "date                      security                                   \n",
       "2016-09-14 00:00:00+00:00 Equity(49496 [FDC])                628.0   \n",
       "                          Equity(49506 [HPE])               1233.0   \n",
       "                          Equity(49630 [CSRA])               626.0   \n",
       "                          Equity(49666 [AGR])                584.0   \n",
       "                          Equity(49700 [FCE_A])               69.0   \n",
       "\n",
       "                                                 Operating Cashflows to Assets  \\\n",
       "date                      security                                               \n",
       "2016-09-14 00:00:00+00:00 Equity(49496 [FDC])                            594.0   \n",
       "                          Equity(49506 [HPE])                            802.0   \n",
       "                          Equity(49630 [CSRA])                          1073.0   \n",
       "                          Equity(49666 [AGR])                            388.0   \n",
       "                          Equity(49700 [FCE_A])                          337.0   \n",
       "\n",
       "                                                 Price Momentum 3M  \\\n",
       "date                      security                                   \n",
       "2016-09-14 00:00:00+00:00 Equity(49496 [FDC])               1290.0   \n",
       "                          Equity(49506 [HPE])               1181.0   \n",
       "                          Equity(49630 [CSRA])              1225.0   \n",
       "                          Equity(49666 [AGR])                374.0   \n",
       "                          Equity(49700 [FCE_A])              571.0   \n",
       "\n",
       "                                                 Price Oscillator  \\\n",
       "date                      security                                  \n",
       "2016-09-14 00:00:00+00:00 Equity(49496 [FDC])               433.0   \n",
       "                          Equity(49506 [HPE])              1402.0   \n",
       "                          Equity(49630 [CSRA])              386.0   \n",
       "                          Equity(49666 [AGR])               560.0   \n",
       "                          Equity(49700 [FCE_A])             782.0   \n",
       "\n",
       "                                                 Return on Invest Capital  \\\n",
       "date                      security                                          \n",
       "2016-09-14 00:00:00+00:00 Equity(49496 [FDC])                       429.0   \n",
       "                          Equity(49506 [HPE])                      1297.0   \n",
       "                          Equity(49630 [CSRA])                      888.0   \n",
       "                          Equity(49666 [AGR])                       490.0   \n",
       "                          Equity(49700 [FCE_A])                      37.0   \n",
       "\n",
       "                                                  Returns  Trendline  Vol 3M  \\\n",
       "date                      security                                             \n",
       "2016-09-14 00:00:00+00:00 Equity(49496 [FDC])   -0.025424        NaN  1175.0   \n",
       "                          Equity(49506 [HPE])   -0.041345        NaN   879.0   \n",
       "                          Equity(49630 [CSRA])   0.019969        NaN   790.0   \n",
       "                          Equity(49666 [AGR])   -0.021012        NaN   114.0   \n",
       "                          Equity(49700 [FCE_A]) -0.034454        NaN   490.0   \n",
       "\n",
       "                                                 Working Capital to Assets  \n",
       "date                      security                                          \n",
       "2016-09-14 00:00:00+00:00 Equity(49496 [FDC])                        350.0  \n",
       "                          Equity(49506 [HPE])                        669.0  \n",
       "                          Equity(49630 [CSRA])                       264.0  \n",
       "                          Equity(49666 [AGR])                        365.0  \n",
       "                          Equity(49700 [FCE_A])                       86.0  "
      ]
     },
     "execution_count": 11,
     "metadata": {},
     "output_type": "execute_result"
    }
   ],
   "source": [
    "results.tail()"
   ]
  },
  {
   "cell_type": "markdown",
   "metadata": {},
   "source": [
    "As you can see, running pipeline gives us factors for every day and every security, ranked relative to each other. We assume that the order of individual factors might carry some weak predictive power on future returns. The question then becomes: how can we combine these weakly predictive factors in a clever way to get a single mega-alpha which is hopefully more predictive."
   ]
  },
  {
   "cell_type": "markdown",
   "metadata": {},
   "source": [
    "This is an important milestone. We have our ranked factor values on each day for each stock. Ranking is not absolutely necessary but has several benefits:\n",
    "* it increases robustness to outliers,\n",
    "* we mostly care about the relative ordering rather than the absolute values.\n",
    "\n",
    "Also note the `Returns` column. These are the values we want to predict given the factor ranks.\n",
    "\n",
    "Next, we are doing some additional transformations to our data:\n",
    "1. Shift factor ranks to align with future returns `n_fwd_days` days in the future.\n",
    "2. Find the top and bottom 30 percentile stocks by their returns. Essentially, we only care about relative movement of stocks. If we later short stocks that go down and long stocks going up relative to each other, it doesn't matter if e.g. all stocks are going down in absolute terms. Moverover, we are ignoring stocks that did not move that much (i.e. 30th to 70th percentile) to only train the classifier on those that provided strong signal. \n",
    "3. We also binarize the returns by their percentile to turn our ML problem into a classification one.\n",
    "\n",
    "`shift_mask_data()` is a utility function that does all of these."
   ]
  },
  {
   "cell_type": "code",
   "execution_count": 12,
   "metadata": {
    "collapsed": false
   },
   "outputs": [],
   "source": [
    "def shift_mask_data(X, Y, upper_percentile=70, lower_percentile=30, n_fwd_days=1):\n",
    "    # Shift X to match factors at t to returns at t+n_fwd_days (we want to predict future returns after all)\n",
    "    shifted_X = np.roll(X, n_fwd_days, axis=0)\n",
    "    \n",
    "    # Slice off rolled elements\n",
    "    X = shifted_X[n_fwd_days:]\n",
    "    Y = Y[n_fwd_days:]\n",
    "    \n",
    "    n_time, n_stocks, n_factors = X.shape\n",
    "    \n",
    "    # Look for biggest up and down movers\n",
    "    upper = np.nanpercentile(Y, upper_percentile, axis=1)[:, np.newaxis]\n",
    "    lower = np.nanpercentile(Y, lower_percentile, axis=1)[:, np.newaxis]\n",
    "  \n",
    "    upper_mask = (Y >= upper)\n",
    "    lower_mask = (Y <= lower)\n",
    "    \n",
    "    mask = upper_mask | lower_mask # This also drops nans\n",
    "    mask = mask.flatten()\n",
    "    \n",
    "    # Only try to predict whether a stock moved up/down relative to other stocks\n",
    "    Y_binary = np.zeros(n_time * n_stocks)\n",
    "    Y_binary[upper_mask.flatten()] = 1\n",
    "    Y_binary[lower_mask.flatten()] = -1\n",
    "    \n",
    "    # Flatten X\n",
    "    X = X.reshape((n_time * n_stocks, n_factors))\n",
    "\n",
    "    # Drop stocks that did not move much (i.e. are in the 30th to 70th percentile)\n",
    "    X = X[mask]\n",
    "    Y_binary = Y_binary[mask]\n",
    "    \n",
    "    return X, Y_binary"
   ]
  },
  {
   "cell_type": "markdown",
   "metadata": {},
   "source": [
    "After we have our helper function to align our data properly we pass our factor ranks to it. You might wonder why we have to do the `swapaxes` thing below rather than just using `pandas` logic. The reason is that this way we can use the same `shift_mask_data()` function inside of a factor where we do not have access to a Pandas `DataFrame`. More on that in a future notebook."
   ]
  },
  {
   "cell_type": "code",
   "execution_count": 13,
   "metadata": {
    "collapsed": true
   },
   "outputs": [],
   "source": [
    "# Massage data to be in the form expected by shift_mask_data()\n",
    "results_wo_returns = results.copy()\n",
    "returns = results_wo_returns.pop('Returns')\n",
    "Y = returns.unstack().values\n",
    "X = results_wo_returns.to_panel() \n",
    "X = X.swapaxes(2, 0).swapaxes(0, 1).values # (factors, time, stocks) -> (time, stocks, factors)"
   ]
  },
  {
   "cell_type": "markdown",
   "metadata": {},
   "source": [
    "Next, we split our data into training (80%) and test (20%). This is common practice: our classifier will try to fit the training set as well as possible but it does not tell us how well it would perform on unseen data. Because we are dealing with time-series data we split along the time-dimension to only test on future data."
   ]
  },
  {
   "cell_type": "code",
   "execution_count": 14,
   "metadata": {
    "collapsed": false
   },
   "outputs": [],
   "source": [
    "# Train-test split\n",
    "train_size_perc = 0.8\n",
    "n_time, n_stocks, n_factors = X.shape\n",
    "train_size = np.int16(np.round(train_size_perc * n_time))\n",
    "X_train, Y_train = X[:train_size, ...], Y[:train_size]\n",
    "X_test, Y_test = X[(train_size+n_fwd_days):, ...], Y[(train_size+n_fwd_days):]"
   ]
  },
  {
   "cell_type": "markdown",
   "metadata": {},
   "source": [
    "As we can only exclude stocks that did not move by a lot (i.e. 30th to 70th percentile) during training, we keep all stocks in our test set and just binarize according to the median. This avoids look-ahead bias."
   ]
  },
  {
   "cell_type": "code",
   "execution_count": 15,
   "metadata": {
    "collapsed": false
   },
   "outputs": [],
   "source": [
    "X_train_shift, Y_train_shift = shift_mask_data(X_train, Y_train, n_fwd_days=n_fwd_days)\n",
    "X_test_shift, Y_test_shift = shift_mask_data(X_test, Y_test, n_fwd_days=n_fwd_days, \n",
    "                                             lower_percentile=50, \n",
    "                                             upper_percentile=50)"
   ]
  },
  {
   "cell_type": "code",
   "execution_count": 16,
   "metadata": {
    "collapsed": false
   },
   "outputs": [
    {
     "data": {
      "text/plain": [
       "((91619, 18), (25403, 18))"
      ]
     },
     "execution_count": 16,
     "metadata": {},
     "output_type": "execute_result"
    }
   ],
   "source": [
    "X_train_shift.shape, X_test_shift.shape"
   ]
  },
  {
   "cell_type": "markdown",
   "metadata": {},
   "source": [
    "<a id='training'></a>"
   ]
  },
  {
   "cell_type": "markdown",
   "metadata": {},
   "source": [
    "## Training our ML pipeline\n",
    "\n",
    "Before training our classifier, several preprocessing steps are advisable. The first one imputes nan values with the factor mean to get clean training data, the second scales our factor ranks to be between [0, 1).\n",
    "\n",
    "For training we are using the [AdaBoost classifier](https://en.wikipedia.org/wiki/AdaBoost) which automatically determines the most relevant features (factors) and tries to find a non-linear combination of features to maximize predictiveness while still being robust. In essence, AdaBoost trains an ensemble of weak classifiers (decision trees in this case) sequentially. Each subsequent weak classifier takes into account the samples (or data points) already classified by the previous weak classifiers. It then focuses on the samples misclassified by the previous weak classifiers and tries to get those correctly. With each new weak classifier you get more fine-grained in your decision function and correctly classify some previously misclassified samples. For prediction, you simply average the answer of all weak classifiers to get a single strong classifier.\n",
    "\n",
    "Of course, this is just an example and you can let your creativity and skill roam freely."
   ]
  },
  {
   "cell_type": "code",
   "execution_count": 17,
   "metadata": {
    "collapsed": false
   },
   "outputs": [],
   "source": [
    "start_timer = time()\n",
    "\n",
    "# Train classifier\n",
    "imputer = preprocessing.Imputer()\n",
    "scaler = preprocessing.MinMaxScaler()\n",
    "clf = ensemble.AdaBoostClassifier(n_estimators=150) # n_estimators controls how many weak classifiers are fi\n",
    "\n",
    "X_train_trans = imputer.fit_transform(X_train_shift)\n",
    "X_train_trans = scaler.fit_transform(X_train_trans)\n",
    "clf.fit(X_train_trans, Y_train_shift)\n",
    "\n",
    "end_timer = time()"
   ]
  },
  {
   "cell_type": "code",
   "execution_count": 18,
   "metadata": {
    "collapsed": false
   },
   "outputs": [
    {
     "name": "stdout",
     "output_type": "stream",
     "text": [
      "Time to train full ML pipline: 24.13 secs\n"
     ]
    }
   ],
   "source": [
    "print \"Time to train full ML pipline: %0.2f secs\" % (end_timer - start_timer)"
   ]
  },
  {
   "cell_type": "markdown",
   "metadata": {},
   "source": [
    "As you can see, training a modern ML classifier does not have to be very compute intensive. Scikit-learn is heavily optimized so the full process only takes less than 10 seconds. Of course, things like deep-learning (which is currently not available on Quantopian), might take a bit longer, but these models are also trained on data sets much much bigger than this (a famous subset of the ImageNet data set is 138 GB).\n",
    "\n",
    "This means that the current bottlenecks are retrieving the data from pipeline (RAM and i/o), not lack of GPU or parallel processing support."
   ]
  },
  {
   "cell_type": "code",
   "execution_count": 19,
   "metadata": {
    "collapsed": false
   },
   "outputs": [
    {
     "name": "stdout",
     "output_type": "stream",
     "text": [
      "Accuracy on train set = 56.17%\n"
     ]
    }
   ],
   "source": [
    "Y_pred = clf.predict(X_train_trans)\n",
    "print('Accuracy on train set = {:.2f}%'.format(metrics.accuracy_score(Y_train_shift, Y_pred) * 100))"
   ]
  },
  {
   "cell_type": "markdown",
   "metadata": {},
   "source": [
    "The classifier does reasonably well on the data we trained it on, but the real test is on hold-out data."
   ]
  },
  {
   "cell_type": "markdown",
   "metadata": {},
   "source": [
    "*Exercise*: It is also common to run cross-validation on the training data and tweak the parameters based on that score, testing should only be done rarely. Try coding a [sklearn pipeline](http://scikit-learn.org/stable/modules/generated/sklearn.pipeline.Pipeline.html) with [K-Fold cross-validation](http://scikit-learn.org/stable/modules/cross_validation.html)."
   ]
  },
  {
   "cell_type": "markdown",
   "metadata": {},
   "source": [
    "## Evaluating our ML classifier\n",
    "\n",
    "To evaluate our ML classifer on the test set, we have to transform our test data in the same way as our traning data. Note that we are only calling the `.transform()` method here which does not use any information from the test set."
   ]
  },
  {
   "cell_type": "code",
   "execution_count": 20,
   "metadata": {
    "collapsed": true
   },
   "outputs": [],
   "source": [
    "# Transform test data\n",
    "X_test_trans = imputer.transform(X_test_shift)\n",
    "X_test_trans = scaler.transform(X_test_trans)"
   ]
  },
  {
   "cell_type": "markdown",
   "metadata": {},
   "source": [
    "After all this work, we can finally test our classifier. We can predict binary labels but also get probability estimates."
   ]
  },
  {
   "cell_type": "code",
   "execution_count": 21,
   "metadata": {
    "collapsed": false
   },
   "outputs": [],
   "source": [
    "# Predict!\n",
    "Y_pred = clf.predict(X_test_trans)\n",
    "\n",
    "Y_pred_prob = clf.predict_proba(X_test_trans)"
   ]
  },
  {
   "cell_type": "code",
   "execution_count": 22,
   "metadata": {
    "collapsed": false
   },
   "outputs": [
    {
     "name": "stdout",
     "output_type": "stream",
     "text": [
      "Predictions: [ 1. -1. -1. ...,  1.  1.  1.]\n",
      "Probabilities of class == 1: [ 50.01423782  49.96216672  49.93493176 ...,  50.03379872  50.05767302\n",
      "  50.05988158]\n"
     ]
    }
   ],
   "source": [
    "print 'Predictions:', Y_pred\n",
    "print 'Probabilities of class == 1:', Y_pred_prob[:, 1] * 100"
   ]
  },
  {
   "cell_type": "markdown",
   "metadata": {},
   "source": [
    "There are many ways to evaluate the performance of our classifier. The simplest and most intuitive one is certainly the accuracy (50% is chance due to our median split). On Kaggle competitions, you will also often find the log-loss being used. This punishes you for being wrong *and* confident in your answer. See  [the Kaggle description](https://www.kaggle.com/wiki/LogarithmicLoss) for more motivation."
   ]
  },
  {
   "cell_type": "code",
   "execution_count": 23,
   "metadata": {
    "collapsed": false
   },
   "outputs": [
    {
     "name": "stdout",
     "output_type": "stream",
     "text": [
      "Accuracy on test set = 49.64%\n",
      "Log-loss = 0.69316\n"
     ]
    }
   ],
   "source": [
    "print('Accuracy on test set = {:.2f}%'.format(metrics.accuracy_score(Y_test_shift, Y_pred) * 100))\n",
    "print('Log-loss = {:.5f}'.format(metrics.log_loss(Y_test_shift, Y_pred_prob)))"
   ]
  },
  {
   "cell_type": "markdown",
   "metadata": {},
   "source": [
    "Seems like we're at chance on this data set, alas. But perhaps you can do better?\n",
    "\n",
    "We can also examine which factors the classifier identified as most predictive."
   ]
  },
  {
   "cell_type": "code",
   "execution_count": 24,
   "metadata": {
    "collapsed": false
   },
   "outputs": [
    {
     "data": {
      "image/png": "[encoded data removed]",
      "text/plain": [
       "<matplotlib.figure.Figure at 0x7f854f4c81d0>"
      ]
     },
     "metadata": {},
     "output_type": "display_data"
    }
   ],
   "source": [
    "feature_importances = pd.Series(clf.feature_importances_, index=results_wo_returns.columns)\n",
    "feature_importances.sort(ascending=False)\n",
    "ax = feature_importances.plot(kind='bar')\n",
    "ax.set(ylabel='Importance (Gini Coefficient)', title='Feature importances');"
   ]
  },
  {
   "cell_type": "markdown",
   "metadata": {},
   "source": [
    "*Exercise*: Use [partial dependence plots](http://scikit-learn.org/stable/auto_examples/ensemble/plot_partial_dependence.html) to get an understanding of how factor rankings are used to predict future returns."
   ]
  },
  {
   "cell_type": "markdown",
   "metadata": {},
   "source": [
    "## Where to go from here\n",
    "\n",
    "Several knobs can be tweaked to boost performance:\n",
    "\n",
    "* Add existing factors from the collection above to the data set.\n",
    "* Come up with new factors \n",
    "  * Use [`alphalens`](https://www.quantopian.com/posts/alphalens-a-new-tool-for-analyzing-alpha-factors) to evaluate an alpha for its predictive power.\n",
    "  * Look for [novel data sources from our partners](https://www.quantopian.com/data).\n",
    "  * Look at the [101 Alpha's Project](https://www.quantopian.com/posts/the-101-alphas-project).\n",
    "* Improve preprocessing of the ML pipeline\n",
    "  * Is 70/30 the best split? \n",
    "  * Should we not binarize the returns and do regression? \n",
    "  * Can we add Sector information in some way?\n",
    "* Experiment with [feature selection](http://scikit-learn.org/stable/modules/feature_selection.html).\n",
    "  * PCA\n",
    "  * ICA\n",
    "  * etc.\n",
    "* Tweak hyper-parameters of `AdaBoostClassifier`.\n",
    "  * [Use cross-validation to find optimal parameters](http://scikit-learn.org/stable/modules/grid_search.html).\n",
    "* Try [different classifiers](http://scikit-learn.org/stable/auto_examples/classification/plot_classifier_comparison.html) of combinations of classifiers.\n",
    "\n",
    "## Machine Learning competition\n",
    "If you have something you think works well, post it in this thread. Make sure to test over the same time-period as I have here to keep things comparable. In a month from now, we can test on new data that has aggregated since then and determine who built the best ML pipeline. If there is demand, we might turn this into a proper ML contest.\n",
    "\n",
    "## Machine Learning resources\n",
    "\n",
    "If you look for information on how to get started with ML, here are a few resources:\n",
    "* [Scikit-learn resources](http://scikit-learn.org/stable/presentations.html)\n",
    "* [Learning scikit-learn: Machine Learning in Python](https://www.amazon.com/dp/1783281936)\n",
    "* [Pattern Recognition and Machine Learning](https://www.amazon.com/Pattern-Recognition-Learning-Information-Statistics/dp/0387310738)\n",
    "\n",
    "## How to put this into an algorithm\n",
    "\n",
    "As mentioned above, this is not immediately usable in an algorithm. For one thing, there is no `run_pipeline()` in the backtest IDE. It turns out to be rather simple to take the code above and put it into a pipeline `CustomFactor()` where the ML model would automatically get retrained and make predictions. You would then long the `1` predictions and short the `-1` predictions, apply some weighting (e.g. inverse variance) and execute orders. More on these next steps in the future.\n",
    "\n",
    "## Credits\n",
    "* Content created by James Christopher and Thomas Wiecki\n",
    "* Thanks to Sheng Wang for ideas and inspiration.\n",
    "* Jonathan Larkin, Jess Stauth, Delaney Granizo-Mackenzie, and Jean Bredeche for helpful comments on an earlier draft."
   ]
  }
 ],
 "metadata": {
  "kernelspec": {
   "display_name": "Python 2",
   "language": "python",
   "name": "python2"
  },
  "language_info": {
   "codemirror_mode": {
    "name": "ipython",
    "version": 2
   },
   "file_extension": ".py",
   "mimetype": "text/x-python",
   "name": "python",
   "nbconvert_exporter": "python",
   "pygments_lexer": "ipython2",
   "version": "2.7.12"
  }
 },
 "nbformat": 4,
 "nbformat_minor": 0
}